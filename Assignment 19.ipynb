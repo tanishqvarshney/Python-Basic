{
 "cells": [
  {
   "cell_type": "markdown",
   "metadata": {},
   "source": [
    "# ANS 1"
   ]
  },
  {
   "cell_type": "code",
   "execution_count": 1,
   "metadata": {},
   "outputs": [
    {
     "name": "stdout",
     "output_type": "stream",
     "text": [
      "<class '__main__.Thing'>\n",
      "<__main__.Thing object at 0x000001CD1B220070>\n"
     ]
    }
   ],
   "source": [
    "class Thing:\n",
    "    pass\n",
    "\n",
    "print(Thing)\n",
    "\n",
    "example = Thing()\n",
    "print(example)"
   ]
  },
  {
   "cell_type": "markdown",
   "metadata": {},
   "source": [
    "# ANS 2"
   ]
  },
  {
   "cell_type": "code",
   "execution_count": 2,
   "metadata": {},
   "outputs": [
    {
     "name": "stdout",
     "output_type": "stream",
     "text": [
      "abc\n"
     ]
    }
   ],
   "source": [
    "class Thing2:\n",
    "    letters = 'abc'\n",
    "    \n",
    "print(Thing2.letters)\n"
   ]
  },
  {
   "cell_type": "markdown",
   "metadata": {},
   "source": [
    "# ANS 3"
   ]
  },
  {
   "cell_type": "code",
   "execution_count": 5,
   "metadata": {},
   "outputs": [
    {
     "name": "stdout",
     "output_type": "stream",
     "text": [
      "xyz\n"
     ]
    }
   ],
   "source": [
    "class Thing3:    \n",
    "    def __init__(self):\n",
    "        self.letters = 'xyz'\n",
    "        \n",
    "try:        \n",
    "    print(Thing3.letters)\n",
    "except:\n",
    "    my_thing = Thing3()\n",
    "    print(my_thing.letters)"
   ]
  },
  {
   "cell_type": "markdown",
   "metadata": {},
   "source": [
    "# ANS 4"
   ]
  },
  {
   "cell_type": "code",
   "execution_count": 10,
   "metadata": {},
   "outputs": [],
   "source": [
    "class Element:   \n",
    "    def __init__(self, name, symbol, number):\n",
    "        self.name = name\n",
    "        self.symbol = symbol\n",
    "        self.number = number\n",
    "\n",
    "my_elements = Element('Hydrogen','H',1)"
   ]
  },
  {
   "cell_type": "markdown",
   "metadata": {},
   "source": [
    "# ANS 5"
   ]
  },
  {
   "cell_type": "code",
   "execution_count": 15,
   "metadata": {},
   "outputs": [
    {
     "name": "stdout",
     "output_type": "stream",
     "text": [
      "{'name': 'Hydrogen', 'symbol': 'H', 'number': 1}\n",
      "Using Method #1 ->\tHydrogen\tH\t1\n",
      "Using Method #2 ->\tHydrogen\tH\t1\n"
     ]
    }
   ],
   "source": [
    "custom_dict = {'name':'Hydrogen','symbol':'H','number':1}\n",
    "print(custom_dict)\n",
    "hydrogen = Element(*custom_dict.values())\n",
    "print('Using Method #1 ->',hydrogen.name,hydrogen.symbol,hydrogen.number, sep='\\t')\n",
    "\n",
    "# OR\n",
    "\n",
    "hydrogen = Element(**custom_dict)\n",
    "print('Using Method #2 ->',hydrogen.name,hydrogen.symbol,hydrogen.number, sep='\\t')"
   ]
  },
  {
   "cell_type": "markdown",
   "metadata": {},
   "source": [
    "# ANS 6"
   ]
  },
  {
   "cell_type": "code",
   "execution_count": 21,
   "metadata": {},
   "outputs": [
    {
     "name": "stdout",
     "output_type": "stream",
     "text": [
      "Hydrogen H 1\n"
     ]
    }
   ],
   "source": [
    "class Element:\n",
    "    def __init__(self, name, symbol, number):\n",
    "        self.name = name\n",
    "        self.symbol = symbol\n",
    "        self.number = number      \n",
    "    def dump(self):\n",
    "        print(self.name, self.symbol, self.number)\n",
    "        \n",
    "hydrogen = Element('Hydrogen','H',1)\n",
    "hydrogen.dump()"
   ]
  },
  {
   "cell_type": "markdown",
   "metadata": {},
   "source": [
    "# ANS 7"
   ]
  },
  {
   "cell_type": "code",
   "execution_count": 24,
   "metadata": {},
   "outputs": [
    {
     "name": "stdout",
     "output_type": "stream",
     "text": [
      "<__main__.Element object at 0x000001CD1B260B50>\n",
      "Hydrogen H 1\n"
     ]
    }
   ],
   "source": [
    "print(hydrogen)\n",
    "\n",
    "class Element:\n",
    "    def __init__(self, name, symbol, number):\n",
    "        self.name = name\n",
    "        self.symbol = symbol\n",
    "        self.number = number      \n",
    "    def __str__(self):\n",
    "        return f'{self.name} {self.symbol} {self.number}'\n",
    "        \n",
    "Hydrogen = Element('Hydrogen','H',1)\n",
    "print(Hydrogen)"
   ]
  },
  {
   "cell_type": "markdown",
   "metadata": {},
   "source": [
    "# ANS 8"
   ]
  },
  {
   "cell_type": "code",
   "execution_count": 28,
   "metadata": {},
   "outputs": [
    {
     "name": "stdout",
     "output_type": "stream",
     "text": [
      "Hydrogen\n",
      "H\n",
      "1\n"
     ]
    }
   ],
   "source": [
    "class Element:\n",
    "    def __init__(self,name,symbol,number):\n",
    "        self.__name = name\n",
    "        self.__symbol = symbol\n",
    "        self.__number = number\n",
    "    \n",
    "    @property\n",
    "    def get_name(self):\n",
    "        return self.__name\n",
    "    \n",
    "    @property\n",
    "    def get_symbol(self):\n",
    "        return self.__symbol\n",
    "    \n",
    "    @property\n",
    "    def get_number(self):\n",
    "        return self.__number\n",
    "    \n",
    "hydrogen = Element('Hydrogen','H',1)\n",
    "print(hydrogen.get_name)\n",
    "print(hydrogen.get_symbol)\n",
    "print(hydrogen.get_number)"
   ]
  },
  {
   "cell_type": "markdown",
   "metadata": {},
   "source": [
    "# ANS 9"
   ]
  },
  {
   "cell_type": "code",
   "execution_count": 31,
   "metadata": {},
   "outputs": [
    {
     "name": "stdout",
     "output_type": "stream",
     "text": [
      "berries\n",
      "clover\n",
      "campers\n"
     ]
    }
   ],
   "source": [
    "class Bear:\n",
    "    def eats(self):\n",
    "        print('berries')\n",
    "class Rabbit:\n",
    "    def eats(self):\n",
    "        print('clover')\n",
    "class Octothorpe:\n",
    "    def eats(self):\n",
    "        print('campers')\n",
    "        \n",
    "bear = Bear()\n",
    "rabbit = Rabbit()\n",
    "octothrope = Octothorpe()\n",
    "\n",
    "bear.eats()\n",
    "rabbit.eats()\n",
    "octothrope.eats()"
   ]
  },
  {
   "cell_type": "markdown",
   "metadata": {},
   "source": [
    "# ANS 10"
   ]
  },
  {
   "cell_type": "code",
   "execution_count": 36,
   "metadata": {},
   "outputs": [
    {
     "name": "stdout",
     "output_type": "stream",
     "text": [
      "disintegrate crush ring\n"
     ]
    }
   ],
   "source": [
    "class Laser:\n",
    "    def does(self):\n",
    "        return 'disintegrate'\n",
    "class Claw:\n",
    "    def does(self):\n",
    "        return 'crush'\n",
    "class Smartphone:\n",
    "    def does(self):\n",
    "        return 'ring'\n",
    "class Robot:\n",
    "    def __init__(self):\n",
    "        self.laser = Laser()\n",
    "        self.claw = Claw()\n",
    "        self.smartphone = Smartphone()\n",
    "    def does(self):\n",
    "        print(self.laser.does(),self.claw.does(),self.smartphone.does())\n",
    "        \n",
    "r2d2 = Robot()\n",
    "r2d2.does()"
   ]
  }
 ],
 "metadata": {
  "kernelspec": {
   "display_name": "Python 3",
   "language": "python",
   "name": "python3"
  },
  "language_info": {
   "codemirror_mode": {
    "name": "ipython",
    "version": 3
   },
   "file_extension": ".py",
   "mimetype": "text/x-python",
   "name": "python",
   "nbconvert_exporter": "python",
   "pygments_lexer": "ipython3",
   "version": "3.8.5"
  }
 },
 "nbformat": 4,
 "nbformat_minor": 4
}
