{
 "cells": [
  {
   "cell_type": "markdown",
   "metadata": {},
   "source": [
    "# ANS 1"
   ]
  },
  {
   "cell_type": "code",
   "execution_count": 1,
   "metadata": {},
   "outputs": [
    {
     "name": "stdout",
     "output_type": "stream",
     "text": [
      "22-05-2022\n"
     ]
    }
   ],
   "source": [
    "import datetime\n",
    "# Code to Add current date to the today.txt file\n",
    "file = open('today.txt','w')\n",
    "file.write(datetime.datetime.now().strftime(\"%d-%m-%Y\"))\n",
    "file.close()\n",
    "# Code to Read current date from today.txt file\n",
    "file = open('today.txt','r')\n",
    "print(file.read())\n",
    "file.close()"
   ]
  },
  {
   "cell_type": "markdown",
   "metadata": {},
   "source": [
    "# ANS 2"
   ]
  },
  {
   "cell_type": "code",
   "execution_count": 2,
   "metadata": {},
   "outputs": [
    {
     "name": "stdout",
     "output_type": "stream",
     "text": [
      "22-05-2022\n"
     ]
    }
   ],
   "source": [
    "file = open('today.txt','r')\n",
    "today_string = file.read()\n",
    "print(today_string)"
   ]
  },
  {
   "cell_type": "markdown",
   "metadata": {},
   "source": [
    "# ANS 3"
   ]
  },
  {
   "cell_type": "code",
   "execution_count": 3,
   "metadata": {},
   "outputs": [
    {
     "name": "stdout",
     "output_type": "stream",
     "text": [
      "2022-05-22 00:00:00\n"
     ]
    }
   ],
   "source": [
    "from datetime import datetime\n",
    "parsed_data = datetime.strptime(today_string, '%d-%m-%Y')\n",
    "print(parsed_data)"
   ]
  },
  {
   "cell_type": "markdown",
   "metadata": {},
   "source": [
    "# ANS 4"
   ]
  },
  {
   "cell_type": "code",
   "execution_count": 4,
   "metadata": {},
   "outputs": [
    {
     "name": "stdout",
     "output_type": "stream",
     "text": [
      "Assignment 1.ipynb\n",
      "Assignment 10.ipynb\n",
      "Assignment 11.ipynb\n",
      "Assignment 12.ipynb\n",
      "Assignment 13.ipynb\n",
      "Assignment 14.ipynb\n",
      "Assignment 15.ipynb\n",
      "Assignment 16.ipynb\n",
      "Assignment 17.ipynb\n",
      "Assignment 18.ipynb\n",
      "Assignment 19.ipynb\n",
      "Assignment 2.ipynb\n",
      "Assignment 20.ipynb\n",
      "Assignment 21.ipynb\n",
      "Assignment 3.ipynb\n",
      "Assignment 4.ipynb\n",
      "Assignment 5.ipynb\n",
      "Assignment 6.ipynb\n",
      "Assignment 7.ipynb\n",
      "Assignment 8.ipynb\n",
      "Assignment 9.ipynb\n",
      "books.csv\n",
      "books.db\n",
      "DSC_4788.JPG\n",
      "pic.jpg\n",
      "pic2.jpg\n",
      "Player_records.csv\n",
      "Programming_assign_basic_1.ipynb\n",
      "Programming_assign_basic_10.ipynb\n",
      "Programming_assign_basic_11.ipynb\n",
      "Programming_assign_basic_12.ipynb\n",
      "Programming_assign_basic_13.ipynb\n",
      "Programming_assign_basic_14.ipynb\n",
      "Programming_assign_basic_15.ipynb\n",
      "Programming_assign_basic_16.ipynb\n",
      "Programming_assign_basic_17.ipynb\n",
      "Programming_assign_basic_18.ipynb\n",
      "Programming_assign_basic_19.ipynb\n",
      "Programming_assign_basic_2.ipynb\n",
      "Programming_assign_basic_20.ipynb\n",
      "Programming_assign_basic_21.ipynb\n",
      "Programming_assign_basic_22.ipynb\n",
      "Programming_assign_basic_23.ipynb\n",
      "Programming_assign_basic_24.ipynb\n",
      "Programming_assign_basic_25.ipynb\n",
      "Programming_assign_basic_3.ipynb\n",
      "Programming_assign_basic_4.ipynb\n",
      "Programming_assign_basic_5.ipynb\n",
      "Programming_assign_basic_6.ipynb\n",
      "Programming_assign_basic_7.ipynb\n",
      "Programming_assign_basic_8.ipynb\n",
      "Programming_assign_basic_9.ipynb\n",
      "test.txt\n",
      "today.txt\n",
      "Untitled.ipynb\n",
      "zoo.py\n",
      "Assignment 1-checkpoint.ipynb\n",
      "Assignment 10-checkpoint.ipynb\n",
      "Assignment 11-checkpoint.ipynb\n",
      "Assignment 12-checkpoint.ipynb\n",
      "Assignment 13-checkpoint.ipynb\n",
      "Assignment 14-checkpoint.ipynb\n",
      "Assignment 15-checkpoint.ipynb\n",
      "Assignment 16-checkpoint.ipynb\n",
      "Assignment 17-checkpoint.ipynb\n",
      "Assignment 18-checkpoint.ipynb\n",
      "Assignment 19-checkpoint.ipynb\n",
      "Assignment 2-checkpoint.ipynb\n",
      "Assignment 20-checkpoint.ipynb\n",
      "Assignment 21-checkpoint.ipynb\n",
      "Assignment 3-checkpoint.ipynb\n",
      "Assignment 4-checkpoint.ipynb\n",
      "Assignment 5-checkpoint.ipynb\n",
      "Assignment 6-checkpoint.ipynb\n",
      "Assignment 7-checkpoint.ipynb\n",
      "Assignment 8-checkpoint.ipynb\n",
      "Assignment 9-checkpoint.ipynb\n",
      "Programming_assign_basic_1-checkpoint.ipynb\n",
      "Programming_assign_basic_10-checkpoint.ipynb\n",
      "Programming_assign_basic_11-checkpoint.ipynb\n",
      "Programming_assign_basic_12-checkpoint.ipynb\n",
      "Programming_assign_basic_13-checkpoint.ipynb\n",
      "Programming_assign_basic_14-checkpoint.ipynb\n",
      "Programming_assign_basic_15-checkpoint.ipynb\n",
      "Programming_assign_basic_16-checkpoint.ipynb\n",
      "Programming_assign_basic_17-checkpoint.ipynb\n",
      "Programming_assign_basic_18-checkpoint.ipynb\n",
      "Programming_assign_basic_19-checkpoint.ipynb\n",
      "Programming_assign_basic_2-checkpoint.ipynb\n",
      "Programming_assign_basic_20-checkpoint.ipynb\n",
      "Programming_assign_basic_21-checkpoint.ipynb\n",
      "Programming_assign_basic_22-checkpoint.ipynb\n",
      "Programming_assign_basic_23-checkpoint.ipynb\n",
      "Programming_assign_basic_24-checkpoint.ipynb\n",
      "Programming_assign_basic_25-checkpoint.ipynb\n",
      "Programming_assign_basic_3-checkpoint.ipynb\n",
      "Programming_assign_basic_4-checkpoint.ipynb\n",
      "Programming_assign_basic_5-checkpoint.ipynb\n",
      "Programming_assign_basic_6-checkpoint.ipynb\n",
      "Programming_assign_basic_7-checkpoint.ipynb\n",
      "Programming_assign_basic_8-checkpoint.ipynb\n",
      "Programming_assign_basic_9-checkpoint.ipynb\n",
      "Untitled-checkpoint.ipynb\n",
      "zoo.cpython-38.pyc\n"
     ]
    }
   ],
   "source": [
    "import os\n",
    "for folders, subfolders, files in os.walk(os.getcwd()):\n",
    "    for file in files:\n",
    "        print(file)"
   ]
  },
  {
   "cell_type": "markdown",
   "metadata": {},
   "source": [
    "# ANS 5"
   ]
  },
  {
   "cell_type": "code",
   "execution_count": 5,
   "metadata": {},
   "outputs": [
    {
     "data": {
      "text/plain": [
       "['.ipynb_checkpoints',\n",
       " 'Assignment 1.ipynb',\n",
       " 'Assignment 10.ipynb',\n",
       " 'Assignment 11.ipynb',\n",
       " 'Assignment 12.ipynb',\n",
       " 'Assignment 13.ipynb',\n",
       " 'Assignment 14.ipynb',\n",
       " 'Assignment 15.ipynb',\n",
       " 'Assignment 16.ipynb',\n",
       " 'Assignment 17.ipynb',\n",
       " 'Assignment 18.ipynb',\n",
       " 'Assignment 19.ipynb',\n",
       " 'Assignment 2.ipynb',\n",
       " 'Assignment 20.ipynb',\n",
       " 'Assignment 21.ipynb',\n",
       " 'Assignment 3.ipynb',\n",
       " 'Assignment 4.ipynb',\n",
       " 'Assignment 5.ipynb',\n",
       " 'Assignment 6.ipynb',\n",
       " 'Assignment 7.ipynb',\n",
       " 'Assignment 8.ipynb',\n",
       " 'Assignment 9.ipynb',\n",
       " 'books.csv',\n",
       " 'books.db',\n",
       " 'DSC_4788.JPG',\n",
       " 'pic.jpg',\n",
       " 'pic2.jpg',\n",
       " 'Player_records.csv',\n",
       " 'Programming_assign_basic_1.ipynb',\n",
       " 'Programming_assign_basic_10.ipynb',\n",
       " 'Programming_assign_basic_11.ipynb',\n",
       " 'Programming_assign_basic_12.ipynb',\n",
       " 'Programming_assign_basic_13.ipynb',\n",
       " 'Programming_assign_basic_14.ipynb',\n",
       " 'Programming_assign_basic_15.ipynb',\n",
       " 'Programming_assign_basic_16.ipynb',\n",
       " 'Programming_assign_basic_17.ipynb',\n",
       " 'Programming_assign_basic_18.ipynb',\n",
       " 'Programming_assign_basic_19.ipynb',\n",
       " 'Programming_assign_basic_2.ipynb',\n",
       " 'Programming_assign_basic_20.ipynb',\n",
       " 'Programming_assign_basic_21.ipynb',\n",
       " 'Programming_assign_basic_22.ipynb',\n",
       " 'Programming_assign_basic_23.ipynb',\n",
       " 'Programming_assign_basic_24.ipynb',\n",
       " 'Programming_assign_basic_25.ipynb',\n",
       " 'Programming_assign_basic_3.ipynb',\n",
       " 'Programming_assign_basic_4.ipynb',\n",
       " 'Programming_assign_basic_5.ipynb',\n",
       " 'Programming_assign_basic_6.ipynb',\n",
       " 'Programming_assign_basic_7.ipynb',\n",
       " 'Programming_assign_basic_8.ipynb',\n",
       " 'Programming_assign_basic_9.ipynb',\n",
       " 'test.txt',\n",
       " 'today.txt',\n",
       " 'Untitled.ipynb',\n",
       " 'zoo.py',\n",
       " '__pycache__']"
      ]
     },
     "execution_count": 5,
     "metadata": {},
     "output_type": "execute_result"
    }
   ],
   "source": [
    "import os \n",
    "os.listdir()"
   ]
  },
  {
   "cell_type": "markdown",
   "metadata": {},
   "source": [
    "# ANS 6"
   ]
  },
  {
   "cell_type": "code",
   "execution_count": 7,
   "metadata": {},
   "outputs": [],
   "source": [
    "import multiprocessing\n",
    "import time \n",
    "import random\n",
    "import datetime\n",
    "\n",
    "def procOne():\n",
    "    print(f'Proc_one_Starttime -> {datetime.datetime.now()}')\n",
    "    time.sleep(random.randint(1,5))\n",
    "    print(f'Proc_one_Endtime -> {datetime.datetime.now()}')\n",
    "    \n",
    "def procTwo():\n",
    "    print(f'Proc_two_Starttime -> {datetime.datetime.now()}')\n",
    "    time.sleep(random.randint(1,5))\n",
    "    print(f'Proc_two_Endtime -> {datetime.datetime.now()}')\n",
    "\n",
    "def procThree():\n",
    "    print(f'Proc_two_Starttime -> {datetime.datetime.now()}')\n",
    "    time.sleep(random.randint(1,5))\n",
    "    print(f'Proc_two_Endtime -> {datetime.datetime.now()}')\n",
    "    \n",
    "if __name__ == \"__main__\":    \n",
    "    p1 = multiprocessing.Process(target=procOne)\n",
    "    p2 = multiprocessing.Process(target=procTwo)\n",
    "    p3 = multiprocessing.Process(target=procThree)\n",
    "\n",
    "    p1.start()\n",
    "    p2.start()\n",
    "    p3.start()\n",
    "\n",
    "    p1.join()\n",
    "    p2.join()\n",
    "    p3.join()"
   ]
  },
  {
   "cell_type": "markdown",
   "metadata": {},
   "source": [
    "Due to some unknown reason. the above did not print any results in the jupyter cell. so i copied the code to a python file. executed it and pasted the ouput here\n",
    "\n",
    "(base) C:\\Users\\Lenovo\\Desktop>python details.py\n",
    "\n",
    "Proc_one_Starttime -> 2022-05-22 18:41:59.354061\n",
    "\n",
    "Proc_two_Starttime -> 2022-05-22 18:41:59.363712\n",
    "\n",
    "Proc_two_Starttime -> 2022-05-22 18:41:59.367238\n",
    "\n",
    "Proc_two_Endtime -> 2022-05-22 18:42:04.369860\n",
    "\n",
    "Proc_two_Endtime -> 2022-05-22 18:42:04.369860\n",
    "\n",
    "Proc_one_Endtime -> 2022-05-22 18:42:04.369860"
   ]
  },
  {
   "cell_type": "markdown",
   "metadata": {},
   "source": [
    "# ANS 7"
   ]
  },
  {
   "cell_type": "code",
   "execution_count": 9,
   "metadata": {},
   "outputs": [
    {
     "name": "stdout",
     "output_type": "stream",
     "text": [
      "1999-03-05 00:00:00 <class 'datetime.datetime'>\n"
     ]
    }
   ],
   "source": [
    "from datetime import datetime\n",
    "my_dob = datetime.strptime('05/03/1999','%d/%m/%Y')\n",
    "print(my_dob, type(my_dob))"
   ]
  },
  {
   "cell_type": "markdown",
   "metadata": {},
   "source": [
    "# ANS 8"
   ]
  },
  {
   "cell_type": "code",
   "execution_count": 12,
   "metadata": {},
   "outputs": [
    {
     "data": {
      "text/plain": [
       "'Friday'"
      ]
     },
     "execution_count": 12,
     "metadata": {},
     "output_type": "execute_result"
    }
   ],
   "source": [
    "from datetime import datetime\n",
    "my_dob = datetime(1999,3,5)\n",
    "my_dob.strftime(\"%A\")"
   ]
  },
  {
   "cell_type": "markdown",
   "metadata": {},
   "source": [
    "# ANS 9"
   ]
  },
  {
   "cell_type": "code",
   "execution_count": 14,
   "metadata": {},
   "outputs": [
    {
     "data": {
      "text/plain": [
       "datetime.datetime(1971, 10, 18, 0, 0)"
      ]
     },
     "execution_count": 14,
     "metadata": {},
     "output_type": "execute_result"
    }
   ],
   "source": [
    "from datetime import datetime, timedelta\n",
    "my_dob = datetime.strptime(\"05/03/1999\",'%d/%m/%Y')\n",
    "future_date = my_dob-timedelta(10000)\n",
    "future_date"
   ]
  }
 ],
 "metadata": {
  "kernelspec": {
   "display_name": "Python 3",
   "language": "python",
   "name": "python3"
  },
  "language_info": {
   "codemirror_mode": {
    "name": "ipython",
    "version": 3
   },
   "file_extension": ".py",
   "mimetype": "text/x-python",
   "name": "python",
   "nbconvert_exporter": "python",
   "pygments_lexer": "ipython3",
   "version": "3.8.5"
  }
 },
 "nbformat": 4,
 "nbformat_minor": 4
}
