{
 "cells": [
  {
   "cell_type": "markdown",
   "metadata": {},
   "source": [
    "# ANS 1"
   ]
  },
  {
   "cell_type": "markdown",
   "metadata": {},
   "source": [
    "The relative path is the path to some file with respect to your current working directory (PWD).\n",
    "\n",
    "\n",
    "For example: if Absolute path to a file called stuff.txt is: C:/users/admin/docs/stuff.txt If my PWD is C:/users/admin/, then the relative path to stuff.txt would be: docs/stuff.txt\n",
    "\n",
    "\n",
    "--> PWD + relative path = absolute path"
   ]
  },
  {
   "cell_type": "markdown",
   "metadata": {},
   "source": [
    "# ANS 2"
   ]
  },
  {
   "cell_type": "markdown",
   "metadata": {},
   "source": [
    "In Linux based systems the absolute path starts with /. Where as in Windows based systems absolute path starts with C:"
   ]
  },
  {
   "cell_type": "markdown",
   "metadata": {},
   "source": [
    "# ANS 3"
   ]
  },
  {
   "cell_type": "markdown",
   "metadata": {},
   "source": [
    "os.getcwd() method tells us the location of current working directory (CWD). Whereas os.chdir() method in Python used to change the current working directory to specified path. These functions are similar to linux commands pwd and cd"
   ]
  },
  {
   "cell_type": "code",
   "execution_count": 2,
   "metadata": {},
   "outputs": [
    {
     "name": "stdout",
     "output_type": "stream",
     "text": [
      "C:\\Users\\Lenovo\\python file\\Assignment\n",
      "C:\\Users\\Lenovo\\python file\\Assignment\n"
     ]
    }
   ],
   "source": [
    "import os\n",
    "print(os.getcwd())\n",
    "path = r'C:\\Users\\Lenovo\\python file\\Assignment'\n",
    "os.chdir(path)\n",
    "print(os.getcwd())"
   ]
  },
  {
   "cell_type": "markdown",
   "metadata": {},
   "source": [
    "# ANS 4"
   ]
  },
  {
   "cell_type": "markdown",
   "metadata": {},
   "source": [
    ". Represents the Current Directory Whereas .. Represents the Parent Directory of the Current Directory\n",
    "For Example: if the below path is my absolute path:\n",
    "C:\\Users\\Lenovo\\python file\\Assignment\n",
    "\n",
    "Then . represents the path C:\\Users\\Lenovo\\python file\\Assignment\n",
    "\n",
    "Where as .. represents the path C:\\Users\\Lenovo\\python file"
   ]
  },
  {
   "cell_type": "markdown",
   "metadata": {},
   "source": [
    "# ANS 5"
   ]
  },
  {
   "cell_type": "markdown",
   "metadata": {},
   "source": [
    "For C:\\bacon\\eggs\\spam.txt\n",
    "\n",
    "The dir name is C:\\\\bacon\\\\eggs\n",
    "\n",
    "The Base name is spam.txt"
   ]
  },
  {
   "cell_type": "markdown",
   "metadata": {},
   "source": [
    "# ANS 6"
   ]
  },
  {
   "cell_type": "markdown",
   "metadata": {},
   "source": [
    " A file can be Accessed in python using open() function. open function takes two arguments filename and mode of operation (optional). if mode is not provided the default mode of opening is read mode\n",
    "So, the syntax being: open(filename, mode)\n",
    "\n",
    "‘r’ – Read Mode: This is the default mode for open(). The file is opened and a pointer is positioned at the beginning of the file’s content.\n",
    "\n",
    "‘w’ – Write Mode: Using this mode will overwrite any existing content in a file. If the given file does not exist, a new one will be created.\n",
    "\n",
    "‘r+’ – Read/Write Mode: Use this mode if you need to simultaneously read and write to a file.\n",
    "\n",
    "‘a’ – Append Mode: With this mode the user can append the data without overwriting any already existing data in the file.\n",
    "\n",
    "‘a+’ – Append and Read Mode: In this mode you can read and append the data without overwriting the original file.\n",
    "\n",
    "‘x’ – Exclusive Creating Mode: This mode is for the sole purpose of creating new files. Use this mode if you know the file to be written doesn’t exist beforehand."
   ]
  },
  {
   "cell_type": "markdown",
   "metadata": {},
   "source": [
    "# ANS 7"
   ]
  },
  {
   "cell_type": "markdown",
   "metadata": {},
   "source": [
    "Using this mode will overwrite any existing content in a file. If the given file does not exist, a new one will be created."
   ]
  },
  {
   "cell_type": "markdown",
   "metadata": {},
   "source": [
    "# ANS 8"
   ]
  },
  {
   "cell_type": "markdown",
   "metadata": {},
   "source": [
    "The main difference is that read() will read the whole file at once and then print out the first characters that take up as many bytes as you specify in the parenthesis\n",
    "\n",
    "Whereas the readline() that will read and print out only the first characters that take up as many bytes as you specify in the parenthesis. You may want to use readline() when you're reading files that are too big for your RAM.\n",
    "\n",
    "The read() would treat each character in the file separately, meaning that the iteration would happen for every character.\n",
    "\n",
    "The readline() function, on the other hand, only reads a single line of the file. This means that if the first line of the file were three lines long, the readline() function would only parse (or iterate/operate) on the first line of the file."
   ]
  },
  {
   "cell_type": "markdown",
   "metadata": {},
   "source": [
    "# ANS 9"
   ]
  },
  {
   "cell_type": "markdown",
   "metadata": {},
   "source": [
    "It contains key and values it represents dictionary."
   ]
  }
 ],
 "metadata": {
  "kernelspec": {
   "display_name": "Python 3",
   "language": "python",
   "name": "python3"
  },
  "language_info": {
   "codemirror_mode": {
    "name": "ipython",
    "version": 3
   },
   "file_extension": ".py",
   "mimetype": "text/x-python",
   "name": "python",
   "nbconvert_exporter": "python",
   "pygments_lexer": "ipython3",
   "version": "3.8.5"
  }
 },
 "nbformat": 4,
 "nbformat_minor": 4
}
